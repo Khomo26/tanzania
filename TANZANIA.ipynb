{
 "cells": [
  {
   "cell_type": "code",
   "execution_count": 1,
   "metadata": {},
   "outputs": [
    {
     "data": {
      "text/plain": [
       "'C:\\\\Users\\\\KHOMOTSO1'"
      ]
     },
     "execution_count": 1,
     "metadata": {},
     "output_type": "execute_result"
    }
   ],
   "source": [
    "pwd\n"
   ]
  },
  {
   "cell_type": "code",
   "execution_count": 2,
   "metadata": {},
   "outputs": [
    {
     "name": "stdout",
     "output_type": "stream",
     "text": [
      "C:\\Users\\KHOMOTSO1\\Videos\n"
     ]
    }
   ],
   "source": [
    "cd Videos\n"
   ]
  },
  {
   "cell_type": "code",
   "execution_count": 3,
   "metadata": {},
   "outputs": [
    {
     "data": {
      "text/html": [
       "<div>\n",
       "<style scoped>\n",
       "    .dataframe tbody tr th:only-of-type {\n",
       "        vertical-align: middle;\n",
       "    }\n",
       "\n",
       "    .dataframe tbody tr th {\n",
       "        vertical-align: top;\n",
       "    }\n",
       "\n",
       "    .dataframe thead th {\n",
       "        text-align: right;\n",
       "    }\n",
       "</style>\n",
       "<table border=\"1\" class=\"dataframe\">\n",
       "  <thead>\n",
       "    <tr style=\"text-align: right;\">\n",
       "      <th></th>\n",
       "      <th>ID</th>\n",
       "      <th>Age</th>\n",
       "      <th>Gender</th>\n",
       "      <th>Marital status</th>\n",
       "      <th>Highest Qualification</th>\n",
       "      <th>Household status</th>\n",
       "      <th>Land ownership</th>\n",
       "      <th>Mobile phone users</th>\n",
       "      <th>Salary/wage earner?</th>\n",
       "      <th>Selling products/goods</th>\n",
       "      <th>...</th>\n",
       "      <th>Frequency of Mobile money bill pays</th>\n",
       "      <th>Literacy in Kiswhahili</th>\n",
       "      <th>Literacy in English</th>\n",
       "      <th>Latitude</th>\n",
       "      <th>Longitude</th>\n",
       "      <th>mobile_money</th>\n",
       "      <th>savings</th>\n",
       "      <th>borrowing</th>\n",
       "      <th>insurance</th>\n",
       "      <th>mobile_money_classification</th>\n",
       "    </tr>\n",
       "  </thead>\n",
       "  <tbody>\n",
       "    <tr>\n",
       "      <td>0</td>\n",
       "      <td>5086</td>\n",
       "      <td>98</td>\n",
       "      <td>2</td>\n",
       "      <td>3</td>\n",
       "      <td>1</td>\n",
       "      <td>1</td>\n",
       "      <td>2</td>\n",
       "      <td>2</td>\n",
       "      <td>0</td>\n",
       "      <td>0</td>\n",
       "      <td>...</td>\n",
       "      <td>-1</td>\n",
       "      <td>4</td>\n",
       "      <td>4</td>\n",
       "      <td>-4.460442</td>\n",
       "      <td>29.811396</td>\n",
       "      <td>0</td>\n",
       "      <td>0</td>\n",
       "      <td>0</td>\n",
       "      <td>0</td>\n",
       "      <td>0</td>\n",
       "    </tr>\n",
       "    <tr>\n",
       "      <td>1</td>\n",
       "      <td>1258</td>\n",
       "      <td>40</td>\n",
       "      <td>1</td>\n",
       "      <td>1</td>\n",
       "      <td>3</td>\n",
       "      <td>5</td>\n",
       "      <td>1</td>\n",
       "      <td>1</td>\n",
       "      <td>1</td>\n",
       "      <td>0</td>\n",
       "      <td>...</td>\n",
       "      <td>4</td>\n",
       "      <td>1</td>\n",
       "      <td>4</td>\n",
       "      <td>-6.176438</td>\n",
       "      <td>39.244871</td>\n",
       "      <td>1</td>\n",
       "      <td>1</td>\n",
       "      <td>1</td>\n",
       "      <td>0</td>\n",
       "      <td>3</td>\n",
       "    </tr>\n",
       "    <tr>\n",
       "      <td>2</td>\n",
       "      <td>331</td>\n",
       "      <td>18</td>\n",
       "      <td>2</td>\n",
       "      <td>4</td>\n",
       "      <td>6</td>\n",
       "      <td>3</td>\n",
       "      <td>2</td>\n",
       "      <td>1</td>\n",
       "      <td>0</td>\n",
       "      <td>0</td>\n",
       "      <td>...</td>\n",
       "      <td>-1</td>\n",
       "      <td>1</td>\n",
       "      <td>1</td>\n",
       "      <td>-6.825702</td>\n",
       "      <td>37.652798</td>\n",
       "      <td>1</td>\n",
       "      <td>0</td>\n",
       "      <td>0</td>\n",
       "      <td>0</td>\n",
       "      <td>2</td>\n",
       "    </tr>\n",
       "    <tr>\n",
       "      <td>3</td>\n",
       "      <td>6729</td>\n",
       "      <td>50</td>\n",
       "      <td>1</td>\n",
       "      <td>1</td>\n",
       "      <td>3</td>\n",
       "      <td>1</td>\n",
       "      <td>1</td>\n",
       "      <td>1</td>\n",
       "      <td>0</td>\n",
       "      <td>0</td>\n",
       "      <td>...</td>\n",
       "      <td>-1</td>\n",
       "      <td>1</td>\n",
       "      <td>4</td>\n",
       "      <td>-3.372049</td>\n",
       "      <td>35.808307</td>\n",
       "      <td>1</td>\n",
       "      <td>0</td>\n",
       "      <td>1</td>\n",
       "      <td>0</td>\n",
       "      <td>3</td>\n",
       "    </tr>\n",
       "    <tr>\n",
       "      <td>4</td>\n",
       "      <td>8671</td>\n",
       "      <td>34</td>\n",
       "      <td>1</td>\n",
       "      <td>1</td>\n",
       "      <td>1</td>\n",
       "      <td>1</td>\n",
       "      <td>2</td>\n",
       "      <td>1</td>\n",
       "      <td>0</td>\n",
       "      <td>1</td>\n",
       "      <td>...</td>\n",
       "      <td>-1</td>\n",
       "      <td>1</td>\n",
       "      <td>4</td>\n",
       "      <td>-7.179645</td>\n",
       "      <td>31.039095</td>\n",
       "      <td>1</td>\n",
       "      <td>1</td>\n",
       "      <td>0</td>\n",
       "      <td>1</td>\n",
       "      <td>3</td>\n",
       "    </tr>\n",
       "  </tbody>\n",
       "</table>\n",
       "<p>5 rows × 37 columns</p>\n",
       "</div>"
      ],
      "text/plain": [
       "     ID  Age  Gender  Marital status  Highest Qualification  Household status  \\\n",
       "0  5086   98       2               3                      1                 1   \n",
       "1  1258   40       1               1                      3                 5   \n",
       "2   331   18       2               4                      6                 3   \n",
       "3  6729   50       1               1                      3                 1   \n",
       "4  8671   34       1               1                      1                 1   \n",
       "\n",
       "   Land ownership  Mobile phone users  Salary/wage earner?  \\\n",
       "0               2                   2                    0   \n",
       "1               1                   1                    1   \n",
       "2               2                   1                    0   \n",
       "3               1                   1                    0   \n",
       "4               2                   1                    0   \n",
       "\n",
       "   Selling products/goods  ...  Frequency of Mobile money bill pays  \\\n",
       "0                       0  ...                                   -1   \n",
       "1                       0  ...                                    4   \n",
       "2                       0  ...                                   -1   \n",
       "3                       0  ...                                   -1   \n",
       "4                       1  ...                                   -1   \n",
       "\n",
       "   Literacy in Kiswhahili  Literacy in English  Latitude  Longitude  \\\n",
       "0                       4                    4 -4.460442  29.811396   \n",
       "1                       1                    4 -6.176438  39.244871   \n",
       "2                       1                    1 -6.825702  37.652798   \n",
       "3                       1                    4 -3.372049  35.808307   \n",
       "4                       1                    4 -7.179645  31.039095   \n",
       "\n",
       "   mobile_money  savings  borrowing  insurance  mobile_money_classification  \n",
       "0             0        0          0          0                            0  \n",
       "1             1        1          1          0                            3  \n",
       "2             1        0          0          0                            2  \n",
       "3             1        0          1          0                            3  \n",
       "4             1        1          0          1                            3  \n",
       "\n",
       "[5 rows x 37 columns]"
      ]
     },
     "execution_count": 3,
     "metadata": {},
     "output_type": "execute_result"
    }
   ],
   "source": [
    "import numpy as np\n",
    "import pandas as pd\n",
    "import seaborn as sn\n",
    "import matplotlib as plt\n",
    "\n",
    "df = pd.read_csv(\"training.csv\")\n",
    "df.head()"
   ]
  },
  {
   "cell_type": "markdown",
   "metadata": {},
   "source": [
    "# "
   ]
  },
  {
   "cell_type": "code",
   "execution_count": 4,
   "metadata": {},
   "outputs": [
    {
     "data": {
      "text/plain": [
       "ID                                                    0\n",
       "Age                                                   0\n",
       "Gender                                                0\n",
       "Marital status                                        0\n",
       "Highest Qualification                                 0\n",
       "Household status                                      0\n",
       "Land ownership                                        0\n",
       "Mobile phone users                                    0\n",
       "Salary/wage earner?                                   0\n",
       "Selling products/goods                                0\n",
       "Providing services                                    0\n",
       "Piece jobs                                            0\n",
       "Rental income                                         0\n",
       "Saving/investments                                    0\n",
       "Pensions                                              0\n",
       "Government                                            0\n",
       "Money given by someone                                0\n",
       "No income                                             0\n",
       "Other                                                 0\n",
       "Employment info for salary earners                    0\n",
       "Sellers' good/products                                0\n",
       "Services from Providers                               0\n",
       "Money sent for the past yr                            0\n",
       "Last time money sent                                  0\n",
       "Money received in past 12 month                       0\n",
       "Last time money received                              0\n",
       "frequency of Mobile money goods/services purchases    0\n",
       "Frequency of Mobile money bill pays                   0\n",
       "Literacy in Kiswhahili                                0\n",
       "Literacy in English                                   0\n",
       "Latitude                                              0\n",
       "Longitude                                             0\n",
       "mobile_money                                          0\n",
       "savings                                               0\n",
       "borrowing                                             0\n",
       "insurance                                             0\n",
       "mobile_money_classification                           0\n",
       "dtype: int64"
      ]
     },
     "metadata": {},
     "output_type": "display_data"
    }
   ],
   "source": [
    "display(df.isnull().sum())"
   ]
  },
  {
   "cell_type": "code",
   "execution_count": 5,
   "metadata": {},
   "outputs": [
    {
     "data": {
      "text/plain": [
       "2    3972\n",
       "1    3122\n",
       "Name: Gender, dtype: int64"
      ]
     },
     "metadata": {},
     "output_type": "display_data"
    }
   ],
   "source": [
    "display(df[\"Gender\"].value_counts())\n"
   ]
  },
  {
   "cell_type": "code",
   "execution_count": 11,
   "metadata": {},
   "outputs": [
    {
     "name": "stdout",
     "output_type": "stream",
     "text": [
      "16\n",
      "100\n"
     ]
    }
   ],
   "source": [
    "print(df['Age'].min())\n",
    "print(df['Age'].max())"
   ]
  },
  {
   "cell_type": "code",
   "execution_count": 18,
   "metadata": {},
   "outputs": [
    {
     "data": {
      "text/plain": [
       "(24, 35]     2249\n",
       "(15, 24]     1535\n",
       "(35, 44]     1145\n",
       "(44, 55]     1009\n",
       "(64, 100]     638\n",
       "(55, 64]      518\n",
       "Name: Age, dtype: int64"
      ]
     },
     "execution_count": 18,
     "metadata": {},
     "output_type": "execute_result"
    }
   ],
   "source": [
    "bins = pd.cut(df['Age'], [15,24,35,44,55,64,100]).value_counts()\n",
    "bins"
   ]
  },
  {
   "cell_type": "code",
   "execution_count": 19,
   "metadata": {},
   "outputs": [
    {
     "data": {
      "text/plain": [
       "<bound method DataFrame.info of         ID  Age  Gender  Marital status  Highest Qualification  \\\n",
       "0     5086   98       2               3                      1   \n",
       "1     1258   40       1               1                      3   \n",
       "2      331   18       2               4                      6   \n",
       "3     6729   50       1               1                      3   \n",
       "4     8671   34       1               1                      1   \n",
       "...    ...  ...     ...             ...                    ...   \n",
       "7089  8378   57       2               3                      3   \n",
       "7090   881   32       1               1                      6   \n",
       "7091  6672   22       2               3                      3   \n",
       "7092  5416   28       2               1                      3   \n",
       "7093  3946   78       1               3                      1   \n",
       "\n",
       "      Household status  Land ownership  Mobile phone users  \\\n",
       "0                    1               2                   2   \n",
       "1                    5               1                   1   \n",
       "2                    3               2                   1   \n",
       "3                    1               1                   1   \n",
       "4                    1               2                   1   \n",
       "...                ...             ...                 ...   \n",
       "7089                 1               2                   2   \n",
       "7090                 3               1                   1   \n",
       "7091                 3               2                   2   \n",
       "7092                 1               2                   2   \n",
       "7093                 1               2                   2   \n",
       "\n",
       "      Salary/wage earner?  Selling products/goods  ...  \\\n",
       "0                       0                       0  ...   \n",
       "1                       1                       0  ...   \n",
       "2                       0                       0  ...   \n",
       "3                       0                       0  ...   \n",
       "4                       0                       1  ...   \n",
       "...                   ...                     ...  ...   \n",
       "7089                    0                       1  ...   \n",
       "7090                    0                       1  ...   \n",
       "7091                    0                       1  ...   \n",
       "7092                    0                       1  ...   \n",
       "7093                    0                       0  ...   \n",
       "\n",
       "      Literacy in Kiswhahili  Literacy in English  Latitude  Longitude  \\\n",
       "0                          4                    4 -4.460442  29.811396   \n",
       "1                          1                    4 -6.176438  39.244871   \n",
       "2                          1                    1 -6.825702  37.652798   \n",
       "3                          1                    4 -3.372049  35.808307   \n",
       "4                          1                    4 -7.179645  31.039095   \n",
       "...                      ...                  ...       ...        ...   \n",
       "7089                       1                    4 -5.811335  35.098103   \n",
       "7090                       1                    1 -2.635156  32.945423   \n",
       "7091                       4                    4 -8.303729  31.059642   \n",
       "7092                       1                    4 -8.090712  35.836560   \n",
       "7093                       4                    4 -5.192204  38.764523   \n",
       "\n",
       "      mobile_money  savings  borrowing  insurance  \\\n",
       "0                0        0          0          0   \n",
       "1                1        1          1          0   \n",
       "2                1        0          0          0   \n",
       "3                1        0          1          0   \n",
       "4                1        1          0          1   \n",
       "...            ...      ...        ...        ...   \n",
       "7089             0        1          0          0   \n",
       "7090             1        1          0          0   \n",
       "7091             0        0          0          0   \n",
       "7092             1        0          0          1   \n",
       "7093             0        0          0          0   \n",
       "\n",
       "      mobile_money_classification  decade  \n",
       "0                               0      90  \n",
       "1                               3      40  \n",
       "2                               2      10  \n",
       "3                               3      50  \n",
       "4                               3      30  \n",
       "...                           ...     ...  \n",
       "7089                            1      50  \n",
       "7090                            3      30  \n",
       "7091                            0      20  \n",
       "7092                            3      20  \n",
       "7093                            0      70  \n",
       "\n",
       "[7094 rows x 38 columns]>"
      ]
     },
     "execution_count": 19,
     "metadata": {},
     "output_type": "execute_result"
    }
   ],
   "source": [
    "df.info"
   ]
  },
  {
   "cell_type": "code",
   "execution_count": null,
   "metadata": {},
   "outputs": [],
   "source": [
    "display(nobel.loc[nobel.prize_share != '1/1'])"
   ]
  },
  {
   "cell_type": "code",
   "execution_count": 20,
   "metadata": {},
   "outputs": [
    {
     "ename": "SyntaxError",
     "evalue": "invalid syntax (<ipython-input-20-d93c8dd246e3>, line 1)",
     "output_type": "error",
     "traceback": [
      "\u001b[1;36m  File \u001b[1;32m\"<ipython-input-20-d93c8dd246e3>\"\u001b[1;36m, line \u001b[1;32m1\u001b[0m\n\u001b[1;33m    git status\u001b[0m\n\u001b[1;37m             ^\u001b[0m\n\u001b[1;31mSyntaxError\u001b[0m\u001b[1;31m:\u001b[0m invalid syntax\n"
     ]
    }
   ],
   "source": [
    "git status"
   ]
  },
  {
   "cell_type": "code",
   "execution_count": null,
   "metadata": {},
   "outputs": [],
   "source": []
  }
 ],
 "metadata": {
  "kernelspec": {
   "display_name": "Python 3",
   "language": "python",
   "name": "python3"
  },
  "language_info": {
   "codemirror_mode": {
    "name": "ipython",
    "version": 3
   },
   "file_extension": ".py",
   "mimetype": "text/x-python",
   "name": "python",
   "nbconvert_exporter": "python",
   "pygments_lexer": "ipython3",
   "version": "3.7.4"
  }
 },
 "nbformat": 4,
 "nbformat_minor": 2
}
